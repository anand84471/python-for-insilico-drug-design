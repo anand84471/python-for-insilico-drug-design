{
 "cells": [
  {
   "cell_type": "code",
   "execution_count": 1,
   "metadata": {},
   "outputs": [
    {
     "name": "stdout",
     "output_type": "stream",
     "text": [
      "Welcome\n"
     ]
    }
   ],
   "source": [
    "print(\"Welcome\")"
   ]
  },
  {
   "cell_type": "markdown",
   "metadata": {},
   "source": [
    "#  0    1    2    3    4    5    6    7    8      left-right \n",
    "#  ↓    ↓    ↓    ↓    ↓    ↓    ↓    ↓    ↓\n",
    "# ['A', 'T', 'G', 'C', 'A', 'T', 'G', 'C', 'A']\n",
    "#  ↑    ↑    ↑    ↑    ↑    ↑    ↑    ↑    ↑\n",
    "# -9   -8   -7   -6   -5   -4   -3   -2   -1      right-left\n"
   ]
  },
  {
   "cell_type": "code",
   "execution_count": 4,
   "metadata": {},
   "outputs": [
    {
     "name": "stdout",
     "output_type": "stream",
     "text": [
      "G\n",
      "T\n",
      "G\n"
     ]
    }
   ],
   "source": [
    "seq=\"ATGCATGCA\"\n",
    "#synatx\n",
    "#name_of_seq[index]\n",
    "#left to right indexing\n",
    "print(seq[2])\n",
    "print(seq[5])\n",
    "print(seq[-3])"
   ]
  },
  {
   "cell_type": "code",
   "execution_count": null,
   "metadata": {},
   "outputs": [],
   "source": []
  },
  {
   "cell_type": "markdown",
   "metadata": {},
   "source": [
    " 0    1    2    3    4    5    6    7    8\n",
    " ×    ↓    ↓    ↓    ↓   ×    ×    ×    ×\n",
    "['A', 'T', 'G', 'C', 'A', 'T', 'G', 'C', 'A']"
   ]
  },
  {
   "cell_type": "code",
   "execution_count": 7,
   "metadata": {},
   "outputs": [
    {
     "name": "stdout",
     "output_type": "stream",
     "text": [
      "TGC\n",
      "TGCA\n",
      "CATGC\n"
     ]
    }
   ],
   "source": [
    "#slicing\n",
    "#sting_name[start:stop]\n",
    "seq=\"ATGCATGCA\"\n",
    "print(seq[1:4])\n",
    "print(seq[5:9])\n",
    "print(seq[3:8])"
   ]
  },
  {
   "cell_type": "markdown",
   "metadata": {},
   "source": [
    "upper()==>convert sequences to upper case\n",
    "lower()==>convert sequences to lower case\n",
    "count() ==>gives you the count of chars\n",
    "find()==>to find first occurrence of character\n",
    "replace()==> to replace a character with any specific character\n",
    "[::-1]==>to reverse the sequence\n"
   ]
  },
  {
   "cell_type": "code",
   "execution_count": 2,
   "metadata": {},
   "outputs": [
    {
     "name": "stdout",
     "output_type": "stream",
     "text": [
      "ATGATAGATAGATAGTAGAATAGTG\n",
      "atgatagatagatagtagaatagtg\n"
     ]
    }
   ],
   "source": [
    "#upper()==>convert sequences to upper case\n",
    "seq=\"ATGATAGATAGATAGTAGAATagtg\"\n",
    "print(seq.upper())\n",
    "#lower()==>convert sequences to lower case\n",
    "print(seq.lower())\n"
   ]
  },
  {
   "cell_type": "code",
   "execution_count": 5,
   "metadata": {},
   "outputs": [
    {
     "name": "stdout",
     "output_type": "stream",
     "text": [
      "3\n",
      "8\n"
     ]
    }
   ],
   "source": [
    "#count() ==>gives you the count of chars\n",
    "seq=\"TAGATAGTAGATAGATAAGATAGTAGTAGATA\"\n",
    "seq2=\"LGAGCFVDDIVKTDGTLMIERFVSLAIDAYPLTKHPNQEYADVFHLYLQYIRKLHDEL\"\n",
    "seq.count(\"GTAG\")\n",
    "print(seq2.count(\"F\"))\n",
    "print(seq2.count(\"L\"))"
   ]
  },
  {
   "cell_type": "code",
   "execution_count": 6,
   "metadata": {},
   "outputs": [
    {
     "name": "stdout",
     "output_type": "stream",
     "text": [
      "TTCGTTGTTGTT\n"
     ]
    }
   ],
   "source": [
    "#replace()==> to replace a character with any specific character\n",
    "seq=\"ATCGTAGATGAA\"\n",
    "print(seq.replace(\"A\",\"T\"))"
   ]
  },
  {
   "cell_type": "code",
   "execution_count": 8,
   "metadata": {},
   "outputs": [
    {
     "name": "stdout",
     "output_type": "stream",
     "text": [
      "CGTA\n"
     ]
    }
   ],
   "source": [
    "#[::-1]==>to reverse the sequence\n",
    "seq=\"ATGC\"\n",
    "print(seq[::-1])"
   ]
  },
  {
   "cell_type": "code",
   "execution_count": 4,
   "metadata": {},
   "outputs": [
    {
     "data": {
      "text/plain": [
       "-1"
      ]
     },
     "execution_count": 4,
     "metadata": {},
     "output_type": "execute_result"
    }
   ],
   "source": [
    "seq=\"ATGCT\"\n",
    "first_index=seq.find(\"G\")\n",
    "second_index=seq.find(\"G\",first_index+1)\n",
    "second_index"
   ]
  }
 ],
 "metadata": {
  "interpreter": {
   "hash": "2e142ed8c16b11eb9a32b3ac677a629ffa2603cf9c5cd15b5b82eee7b403d10d"
  },
  "kernelspec": {
   "display_name": "Python 3.9.6 64-bit",
   "language": "python",
   "name": "python3"
  },
  "language_info": {
   "codemirror_mode": {
    "name": "ipython",
    "version": 3
   },
   "file_extension": ".py",
   "mimetype": "text/x-python",
   "name": "python",
   "nbconvert_exporter": "python",
   "pygments_lexer": "ipython3",
   "version": "3.9.6"
  },
  "orig_nbformat": 4
 },
 "nbformat": 4,
 "nbformat_minor": 2
}
