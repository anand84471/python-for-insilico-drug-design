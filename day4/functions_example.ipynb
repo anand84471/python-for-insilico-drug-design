{
 "cells": [
  {
   "cell_type": "code",
   "execution_count": 2,
   "metadata": {},
   "outputs": [
    {
     "name": "stdout",
     "output_type": "stream",
     "text": [
      "Welcome to RMC\n",
      "Welcome to RMC\n",
      "Welcome to RMC\n",
      "Welcome to RMC\n"
     ]
    }
   ],
   "source": [
    "def greeting():\n",
    "    print(\"Welcome to RMC\")\n",
    "greeting()\n",
    "greeting()\n",
    "greeting()\n",
    "greeting()"
   ]
  },
  {
   "cell_type": "code",
   "execution_count": 3,
   "metadata": {},
   "outputs": [
    {
     "data": {
      "text/plain": [
       "35"
      ]
     },
     "execution_count": 3,
     "metadata": {},
     "output_type": "execute_result"
    }
   ],
   "source": [
    "#declaration\n",
    "def calculate_area_r(length,width):\n",
    "    area=length*width\n",
    "    return area\n",
    "#calling\n",
    "calculate_area_r(5,7)"
   ]
  },
  {
   "cell_type": "code",
   "execution_count": 4,
   "metadata": {},
   "outputs": [
    {
     "data": {
      "text/plain": [
       "70"
      ]
     },
     "execution_count": 4,
     "metadata": {},
     "output_type": "execute_result"
    }
   ],
   "source": [
    "calculate_area_r(10,7)"
   ]
  },
  {
   "cell_type": "code",
   "execution_count": 5,
   "metadata": {},
   "outputs": [
    {
     "data": {
      "text/plain": [
       "140"
      ]
     },
     "execution_count": 5,
     "metadata": {},
     "output_type": "execute_result"
    }
   ],
   "source": [
    "def get_area_and_perimeter_sum(length,width):\n",
    "    area=calculate_area_r(length,width)\n",
    "    perim=2*(length+width)\n",
    "    result=area+perim\n",
    "    return result\n",
    "get_area_and_perimeter_sum(10,10)"
   ]
  },
  {
   "cell_type": "code",
   "execution_count": 8,
   "metadata": {},
   "outputs": [
    {
     "data": {
      "text/plain": [
       "44"
      ]
     },
     "execution_count": 8,
     "metadata": {},
     "output_type": "execute_result"
    }
   ],
   "source": [
    "#default perimiter\n",
    "def get_area_and_perimeter_sum(length,width=10):\n",
    "    area=calculate_area_r(length,width)\n",
    "    perim=2*(length+width)\n",
    "    result=area+perim\n",
    "    return result\n",
    "get_area_and_perimeter_sum(10)\n",
    "get_area_and_perimeter_sum(10,2)"
   ]
  },
  {
   "cell_type": "code",
   "execution_count": null,
   "metadata": {},
   "outputs": [],
   "source": []
  }
 ],
 "metadata": {
  "interpreter": {
   "hash": "2e142ed8c16b11eb9a32b3ac677a629ffa2603cf9c5cd15b5b82eee7b403d10d"
  },
  "kernelspec": {
   "display_name": "Python 3.9.6 64-bit",
   "language": "python",
   "name": "python3"
  },
  "language_info": {
   "codemirror_mode": {
    "name": "ipython",
    "version": 3
   },
   "file_extension": ".py",
   "mimetype": "text/x-python",
   "name": "python",
   "nbconvert_exporter": "python",
   "pygments_lexer": "ipython3",
   "version": "3.9.6"
  },
  "orig_nbformat": 4
 },
 "nbformat": 4,
 "nbformat_minor": 2
}
