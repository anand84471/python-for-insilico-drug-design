{
 "cells": [
  {
   "cell_type": "markdown",
   "metadata": {},
   "source": [
    "Write a program to calculate the length of DNA Sequence in python. Take the sequence from user.\n",
    "Write  a program to calculate the GC percentage of DNA sequence. Take the sequence from the user.\n",
    "Write a program to mutate a sequence taken from user. Accept sequence as a input from the user. Take position and mutated base also from user\n",
    "Write a program to slice the sequence in two halves. Print the result. Take the sequence from the user. \n",
    "Print position of  the 2nd occurrence of “A”  in the sequence “ATCGATAGATACAA”.\n",
    "Write a program to check which stop codons are present in the sequence  “UAAAAGGCGAGAUAAAUA” .\n",
    "suppose that we have few restriction enzyme recognition sites [\"ACGTC\",\"CTAGT\",\"ATGCTA\"] find sites with their frequencies in the DNA sequences of  delta strain of COVID 19.\n",
    "Write a program to reverse the second half region of a DNA sequence. \"ATGATAGATAGATGATATCGATAGTA\".\n",
    "\n",
    "\n",
    "\n",
    "\"\"\"\n",
    "1. Write a program to calculate the length of DNA Sequence in python. Take the sequence from user.\n",
    "\"\"\"\n",
    "#SOLUTION\n",
    "\n",
    "\n",
    "\"\"\"\n",
    "2. Write a program to calculate the length of DNA Sequence in python. Take the sequence from user.\n",
    "\"\"\"\n",
    "\n",
    "#SOLUTION\n",
    "\n",
    "\n",
    "\n",
    "#4"
   ]
  },
  {
   "cell_type": "code",
   "execution_count": null,
   "metadata": {},
   "outputs": [],
   "source": []
  },
  {
   "cell_type": "code",
   "execution_count": null,
   "metadata": {},
   "outputs": [],
   "source": []
  },
  {
   "cell_type": "code",
   "execution_count": 2,
   "metadata": {},
   "outputs": [
    {
     "name": "stdout",
     "output_type": "stream",
     "text": [
      "9\n"
     ]
    }
   ],
   "source": [
    "seq=input(\"Please enter the seq\")\n",
    "print(len(seq))"
   ]
  },
  {
   "cell_type": "code",
   "execution_count": 3,
   "metadata": {},
   "outputs": [
    {
     "data": {
      "text/plain": [
       "50.0"
      ]
     },
     "execution_count": 3,
     "metadata": {},
     "output_type": "execute_result"
    }
   ],
   "source": [
    "seq=input(\"Please enter the sequence\")\n",
    "#gc_percentage=100*(count_c+coun_g)/length\n",
    "gc_percent=100*(seq.count(\"G\")+seq.count(\"C\"))/len(seq)\n",
    "gc_percent"
   ]
  },
  {
   "cell_type": "code",
   "execution_count": 5,
   "metadata": {},
   "outputs": [
    {
     "name": "stdout",
     "output_type": "stream",
     "text": [
      "ABGC\n"
     ]
    }
   ],
   "source": [
    "seq=\"ATGC\"\n",
    "#    ANGC\n",
    "mutated_seq=seq[0:1]+\"B\"+seq[2:]\n",
    "print(mutated_seq)"
   ]
  },
  {
   "cell_type": "code",
   "execution_count": 7,
   "metadata": {},
   "outputs": [
    {
     "data": {
      "text/plain": [
       "('ATG', 'CTA')"
      ]
     },
     "execution_count": 7,
     "metadata": {},
     "output_type": "execute_result"
    }
   ],
   "source": [
    "seq=input(\"Please enter the seq\")\n",
    "first_half=seq[0:int(len(seq)/2)]\n",
    "second_half=seq[int(len(seq)/2):]\n",
    "first_half,second_half"
   ]
  },
  {
   "cell_type": "code",
   "execution_count": null,
   "metadata": {},
   "outputs": [],
   "source": [
    "seq=\"ATAGTAGAAT\"\n",
    "seq.find()"
   ]
  },
  {
   "cell_type": "code",
   "execution_count": null,
   "metadata": {},
   "outputs": [],
   "source": [
    "# Q1. Write a program to find the second maximum GC value from the list also find the median GC value.\n",
    "#     Gc values are as follows 30.5,12,54,23,84\n",
    "# Q2. Write a program to check which stop codons are present in the sequence UAAAAGGCGAGAUAAAUA\n",
    "# Q3. Check the presence of all the stop codons in the list [\"UAA\",\"UGC\",\"AUAGCT\",\"ATUA\",\"UAG\"] .\n",
    "# Q4. Write a program to transcribe the sequence \"ATGCTCGCGTAA\",//T==>U\n",
    "# Q5. Concatenate two lists of GC Values [30.5,12,54,23,84] and [12,45,54,32] \n",
    "#     and find the maxium and minum GC Values.\n",
    "\n"
   ]
  },
  {
   "cell_type": "code",
   "execution_count": 9,
   "metadata": {},
   "outputs": [
    {
     "data": {
      "text/plain": [
       "84"
      ]
     },
     "execution_count": 9,
     "metadata": {},
     "output_type": "execute_result"
    }
   ],
   "source": [
    "gc_values=[30.5,12,54,23,84]\n",
    "gc_values.sort()\n",
    "gc_values[-1]"
   ]
  },
  {
   "cell_type": "code",
   "execution_count": 10,
   "metadata": {},
   "outputs": [
    {
     "data": {
      "text/plain": [
       "{'UAA', 'UAG'}"
      ]
     },
     "execution_count": 10,
     "metadata": {},
     "output_type": "execute_result"
    }
   ],
   "source": [
    "stop_codon=set([\"UAA\",\"UGA\",\"UAG\"])\n",
    "list_seq=set([\"UAA\",\"UGC\",\"AUAGCT\",\"ATUA\",\"UAG\"])\n",
    "stop_codon&list_seq\n"
   ]
  },
  {
   "cell_type": "code",
   "execution_count": 12,
   "metadata": {},
   "outputs": [
    {
     "data": {
      "text/plain": [
       "(84, 12)"
      ]
     },
     "execution_count": 12,
     "metadata": {},
     "output_type": "execute_result"
    }
   ],
   "source": [
    "list1=[30.5,12,54,23,84] \n",
    "list2=[12,45,54,32]\n",
    "final_list=list1+list2\n",
    "final_list.sort()\n",
    "final_list[-1],final_list[0]"
   ]
  },
  {
   "cell_type": "code",
   "execution_count": 14,
   "metadata": {},
   "outputs": [
    {
     "data": {
      "text/plain": [
       "(84, 12)"
      ]
     },
     "execution_count": 14,
     "metadata": {},
     "output_type": "execute_result"
    }
   ],
   "source": [
    "set1=set([30.5,12,54,23,84] )\n",
    "set2=set([12,45,54,32])\n",
    "final_set=set1|set2\n",
    "final_list=list(final_set)\n",
    "final_list.sort()\n",
    "final_list[-1],final_list[0]"
   ]
  }
 ],
 "metadata": {
  "interpreter": {
   "hash": "2e142ed8c16b11eb9a32b3ac677a629ffa2603cf9c5cd15b5b82eee7b403d10d"
  },
  "kernelspec": {
   "display_name": "Python 3.9.6 64-bit",
   "language": "python",
   "name": "python3"
  },
  "language_info": {
   "codemirror_mode": {
    "name": "ipython",
    "version": 3
   },
   "file_extension": ".py",
   "mimetype": "text/x-python",
   "name": "python",
   "nbconvert_exporter": "python",
   "pygments_lexer": "ipython3",
   "version": "3.9.6"
  },
  "orig_nbformat": 4
 },
 "nbformat": 4,
 "nbformat_minor": 2
}
