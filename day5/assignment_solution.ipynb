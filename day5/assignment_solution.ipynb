{
 "cells": [
  {
   "cell_type": "markdown",
   "metadata": {},
   "source": [
    "Write a program to calculate the length of DNA Sequence in python. Take the sequence from user.\n",
    "Write  a program to calculate the GC percentage of DNA sequence. Take the sequence from the user.\n",
    "Write a program to mutate a sequence taken from user. Accept sequence as a input from the user. Take position and mutated base also from user\n",
    "Write a program to slice the sequence in two halves. Print the result. Take the sequence from the user. \n",
    "Print position of  the 2nd occurrence of “A”  in the sequence “ATCGATAGATACAA”.\n",
    "Write a program to check which stop codons are present in the sequence  “UAAAAGGCGAGAUAAAUA” .\n",
    "suppose that we have few restriction enzyme recognition sites [\"ACGTC\",\"CTAGT\",\"ATGCTA\"] find sites with their frequencies in the DNA sequences of  delta strain of COVID 19.\n",
    "Write a program to reverse the second half region of a DNA sequence. \"ATGATAGATAGATGATATCGATAGTA\".\n",
    "\n",
    "\n",
    "\n",
    "\"\"\"\n",
    "1. Write a program to calculate the length of DNA Sequence in python. Take the sequence from user.\n",
    "\"\"\"\n",
    "#SOLUTION\n",
    "\n",
    "\n",
    "\"\"\"\n",
    "2. Write a program to calculate the length of DNA Sequence in python. Take the sequence from user.\n",
    "\"\"\"\n",
    "\n",
    "#SOLUTION\n",
    "\n",
    "\n",
    "\n",
    "#4"
   ]
  },
  {
   "cell_type": "code",
   "execution_count": null,
   "metadata": {},
   "outputs": [],
   "source": []
  },
  {
   "cell_type": "code",
   "execution_count": null,
   "metadata": {},
   "outputs": [],
   "source": []
  },
  {
   "cell_type": "code",
   "execution_count": 2,
   "metadata": {},
   "outputs": [
    {
     "name": "stdout",
     "output_type": "stream",
     "text": [
      "9\n"
     ]
    }
   ],
   "source": [
    "seq=input(\"Please enter the seq\")\n",
    "print(len(seq))"
   ]
  },
  {
   "cell_type": "code",
   "execution_count": 3,
   "metadata": {},
   "outputs": [
    {
     "data": {
      "text/plain": [
       "50.0"
      ]
     },
     "execution_count": 3,
     "metadata": {},
     "output_type": "execute_result"
    }
   ],
   "source": [
    "seq=input(\"Please enter the sequence\")\n",
    "#gc_percentage=100*(count_c+coun_g)/length\n",
    "gc_percent=100*(seq.count(\"G\")+seq.count(\"C\"))/len(seq)\n",
    "gc_percent"
   ]
  },
  {
   "cell_type": "code",
   "execution_count": 5,
   "metadata": {},
   "outputs": [
    {
     "name": "stdout",
     "output_type": "stream",
     "text": [
      "ABGC\n"
     ]
    }
   ],
   "source": [
    "seq=\"ATGC\"\n",
    "#    ANGC\n",
    "mutated_seq=seq[0:1]+\"B\"+seq[2:]\n",
    "print(mutated_seq)"
   ]
  },
  {
   "cell_type": "code",
   "execution_count": 7,
   "metadata": {},
   "outputs": [
    {
     "data": {
      "text/plain": [
       "('ATG', 'CTA')"
      ]
     },
     "execution_count": 7,
     "metadata": {},
     "output_type": "execute_result"
    }
   ],
   "source": [
    "seq=input(\"Please enter the seq\")\n",
    "first_half=seq[0:int(len(seq)/2)]\n",
    "second_half=seq[int(len(seq)/2):]\n",
    "first_half,second_half"
   ]
  }
 ],
 "metadata": {
  "interpreter": {
   "hash": "2e142ed8c16b11eb9a32b3ac677a629ffa2603cf9c5cd15b5b82eee7b403d10d"
  },
  "kernelspec": {
   "display_name": "Python 3.9.6 64-bit",
   "language": "python",
   "name": "python3"
  },
  "language_info": {
   "codemirror_mode": {
    "name": "ipython",
    "version": 3
   },
   "file_extension": ".py",
   "mimetype": "text/x-python",
   "name": "python",
   "nbconvert_exporter": "python",
   "pygments_lexer": "ipython3",
   "version": "3.9.6"
  },
  "orig_nbformat": 4
 },
 "nbformat": 4,
 "nbformat_minor": 2
}
